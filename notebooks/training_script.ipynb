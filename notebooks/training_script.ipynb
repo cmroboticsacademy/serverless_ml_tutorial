{
 "metadata": {
  "language_info": {
   "codemirror_mode": {
    "name": "ipython",
    "version": 3
   },
   "file_extension": ".py",
   "mimetype": "text/x-python",
   "name": "python",
   "nbconvert_exporter": "python",
   "pygments_lexer": "ipython3",
   "version": "3.8.3-final"
  },
  "orig_nbformat": 2,
  "kernelspec": {
   "name": "python_defaultSpec_1596595849786",
   "display_name": "Python 3.8.3 64-bit ('base': conda)"
  }
 },
 "nbformat": 4,
 "nbformat_minor": 2,
 "cells": [
  {
   "cell_type": "code",
   "execution_count": 3,
   "metadata": {
    "tags": []
   },
   "outputs": [],
   "source": [
    "import pandas\n",
    "import json\n",
    "\n",
    "from sklearn import preprocessing\n",
    "from sklearn import metrics\n",
    "from sklearn.model_selection import train_test_split\n"
   ]
  },
  {
   "cell_type": "code",
   "execution_count": 4,
   "metadata": {
    "tags": []
   },
   "outputs": [],
   "source": [
    "with open('/home/jjarvis/Documents/rah-ml-backend/training_data.json') as json_data:\n",
    "    data = json.load(json_data)\n",
    "\n",
    "df = pandas.DataFrame(data)\n",
    "\n",
    "X = df[['temp', 'vibration', 'current', 'noise']]\n",
    "\n",
    "def normalize_features(X):\n",
    "    transformer = preprocessing.Normalizer().fit(X)\n",
    "    return transformer.transform(X).tolist()\n",
    "\n",
    "def encode_labels(y):\n",
    "    enc = preprocessing.LabelEncoder()\n",
    "    enc.fit(y)\n",
    "    return [enc.transform(y).tolist(), enc.classes_.tolist()]\n",
    "\n",
    "X = normalize_features(X)\n",
    "y,encoding = encode_labels(df[['state']])\n"
   ]
  },
  {
   "cell_type": "code",
   "execution_count": 6,
   "metadata": {
    "tags": []
   },
   "outputs": [
    {
     "output_type": "stream",
     "name": "stdout",
     "text": "0.976\n"
    }
   ],
   "source": [
    "from sklearn.linear_model import LogisticRegression\n",
    "\n",
    "train_X, val_X, train_y, val_y = train_test_split(X,y, random_state=1)\n",
    "\n",
    "regressor = LogisticRegression(solver='liblinear')\n",
    "regressor.fit(train_X, train_y)\n",
    "\n",
    "y_pred = regressor.predict(val_X)\n",
    "accuracy = metrics.accuracy_score(y_pred, val_y)\n",
    "\n",
    "print(accuracy)"
   ]
  },
  {
   "cell_type": "code",
   "execution_count": 9,
   "metadata": {
    "tags": []
   },
   "outputs": [
    {
     "output_type": "stream",
     "name": "stdout",
     "text": "pickled model\n"
    }
   ],
   "source": [
    "import pickle\n",
    "\n",
    "file_handler = open('factory_linear_regression.pkl', 'wb')\n",
    "payload = {\"model\": regressor, \"encoding\": encoding}\n",
    "pickle.dump(payload,file_handler)\n",
    "file_handler.close()\n",
    "\n",
    "print(\"pickled model\")"
   ]
  },
  {
   "cell_type": "code",
   "execution_count": null,
   "metadata": {},
   "outputs": [],
   "source": []
  }
 ]
}